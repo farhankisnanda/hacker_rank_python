{
 "cells": [
  {
   "cell_type": "markdown",
   "id": "02617696",
   "metadata": {},
   "source": [
    "# Say \"Hello, World!\" With Python"
   ]
  },
  {
   "cell_type": "markdown",
   "id": "f0ddeade",
   "metadata": {},
   "source": [
    "## Task:"
   ]
  },
  {
   "cell_type": "markdown",
   "id": "2d52ee3a",
   "metadata": {},
   "source": [
    "Here is a sample line of code that can be executed in Python:\n",
    "\n",
    "`print(\"Hello, World!\")`  \n",
    "You can just as easily store a string as a variable and then print it to stdout:\n",
    "\n",
    "`my_string = \"Hello, World!\"`  \n",
    "`print(my_string)`  \n",
    "The above code will print Hello, World! on your screen. Try it yourself in the editor below!"
   ]
  },
  {
   "cell_type": "markdown",
   "id": "86fbfaaa",
   "metadata": {},
   "source": [
    "## My Answer:"
   ]
  },
  {
   "cell_type": "code",
   "execution_count": 6,
   "id": "3e359587",
   "metadata": {},
   "outputs": [
    {
     "name": "stdout",
     "output_type": "stream",
     "text": [
      "Hello World!\n"
     ]
    }
   ],
   "source": [
    "print(\"Hello World!\")"
   ]
  },
  {
   "cell_type": "markdown",
   "id": "b5ec9063",
   "metadata": {},
   "source": [
    "# Python If-Else"
   ]
  },
  {
   "cell_type": "markdown",
   "id": "c9640684",
   "metadata": {},
   "source": [
    "## Task:"
   ]
  },
  {
   "cell_type": "markdown",
   "id": "31618212",
   "metadata": {},
   "source": [
    "Given an integer, n, perform the following conditional actions:\n",
    "\n",
    "If n is odd, print Weird   \n",
    "If n is even and in the inclusive range of 2 to 5, print Not Weird  \n",
    "If n is even and in the inclusive range of 6 to 20, print Weird  \n",
    "If n is even greater than 20, print Not Weird  "
   ]
  },
  {
   "cell_type": "markdown",
   "id": "e56ccfc2",
   "metadata": {},
   "source": [
    "## My Answer:"
   ]
  },
  {
   "cell_type": "code",
   "execution_count": 7,
   "id": "8bcb0337",
   "metadata": {},
   "outputs": [
    {
     "name": "stdout",
     "output_type": "stream",
     "text": [
      "2\n",
      "Not Weird\n"
     ]
    }
   ],
   "source": [
    "#!/bin/python3\n",
    "\n",
    "import math\n",
    "import os\n",
    "import random\n",
    "import re\n",
    "import sys\n",
    "\n",
    "\n",
    "if __name__ == '__main__':\n",
    "    n = int(input().strip())\n",
    "    \n",
    "if (n % 2 != 0):\n",
    "    print(\"Weird\")\n",
    "elif (n % 2 == 0 and (n >= 2 and n <= 5)):\n",
    "    print(\"Not Weird\")\n",
    "elif (n % 2 == 0) and (n >= 6 and n <= 20):\n",
    "    print(\"Weird\")\n",
    "elif (n % 2 == 0 and n > 20):\n",
    "    print(\"Not Weird\") \n"
   ]
  },
  {
   "cell_type": "markdown",
   "id": "0b10be9e",
   "metadata": {},
   "source": [
    "# Arithmetic Operators"
   ]
  },
  {
   "cell_type": "markdown",
   "id": "1edf6767",
   "metadata": {},
   "source": [
    "## Task:"
   ]
  },
  {
   "cell_type": "markdown",
   "id": "f0ac3944",
   "metadata": {},
   "source": [
    "The provided code stub reads two integers from STDIN, a and b. Add code to print three lines where:  \n",
    "\n",
    "The first line contains the sum of two numbers.  \n",
    "The second line contains the difference of the two numbers (first – second).  \n",
    "The third line contains the product of two numbers.   "
   ]
  },
  {
   "cell_type": "markdown",
   "id": "f70debf7",
   "metadata": {},
   "source": [
    "## My Answer:"
   ]
  },
  {
   "cell_type": "code",
   "execution_count": 12,
   "id": "f0117168",
   "metadata": {},
   "outputs": [
    {
     "name": "stdout",
     "output_type": "stream",
     "text": [
      "2\n",
      "3\n",
      "5\n",
      "-1\n",
      "6\n"
     ]
    }
   ],
   "source": [
    "if __name__ == '__main__':\n",
    "    a = int(input())\n",
    "    b = int(input())\n",
    "\n",
    "print(a+b);\n",
    "print(a-b);\n",
    "print(a*b);"
   ]
  },
  {
   "cell_type": "markdown",
   "id": "3dab6744",
   "metadata": {},
   "source": [
    "# Python: Division"
   ]
  },
  {
   "cell_type": "markdown",
   "id": "2e600baf",
   "metadata": {},
   "source": [
    "## Task:"
   ]
  },
  {
   "cell_type": "markdown",
   "id": "455f87f2",
   "metadata": {},
   "source": [
    "The provided code stub read two integers, a and b, from STDIN.  \n",
    "\n",
    "Add logic to print two lines. The first line should contain the result of integer division, a // b. The second line should contain the result of float division, a / b.  \n",
    "\n",
    "No rounding or formatting is necessary."
   ]
  },
  {
   "cell_type": "markdown",
   "id": "c4e2e1ff",
   "metadata": {},
   "source": [
    "## My Answer:"
   ]
  },
  {
   "cell_type": "code",
   "execution_count": 1,
   "id": "b0504b1c",
   "metadata": {},
   "outputs": [
    {
     "name": "stdout",
     "output_type": "stream",
     "text": [
      "2\n",
      "3\n",
      "0\n",
      "0.6666666666666666\n"
     ]
    }
   ],
   "source": [
    "if __name__ == '__main__':\n",
    "    a = int(input())\n",
    "    b = int(input())\n",
    "    \n",
    "print(a//b);\n",
    "print(a/b);"
   ]
  },
  {
   "cell_type": "markdown",
   "id": "924cb926",
   "metadata": {},
   "source": [
    "# Loops"
   ]
  },
  {
   "cell_type": "markdown",
   "id": "a1eafd7b",
   "metadata": {},
   "source": [
    "## Task:"
   ]
  },
  {
   "cell_type": "markdown",
   "id": "d8f72612",
   "metadata": {},
   "source": [
    "The provided code stub reads and integer, n, from STDIN. For all non-negative integers i < n, print i2 . "
   ]
  },
  {
   "cell_type": "markdown",
   "id": "b7a5dc36",
   "metadata": {},
   "source": [
    "## My Answer:"
   ]
  },
  {
   "cell_type": "code",
   "execution_count": 3,
   "id": "6c1cbbb1",
   "metadata": {},
   "outputs": [
    {
     "name": "stdout",
     "output_type": "stream",
     "text": [
      "4\n",
      "0\n",
      "1\n",
      "4\n",
      "9\n"
     ]
    }
   ],
   "source": [
    "if __name__ == '__main__':\n",
    "    n = int(input())\n",
    "\n",
    "i = 0;\n",
    "while (i < n):\n",
    "    print(i **2)\n",
    "    i+= 1"
   ]
  }
 ],
 "metadata": {
  "kernelspec": {
   "display_name": "Python 3 (ipykernel)",
   "language": "python",
   "name": "python3"
  },
  "language_info": {
   "codemirror_mode": {
    "name": "ipython",
    "version": 3
   },
   "file_extension": ".py",
   "mimetype": "text/x-python",
   "name": "python",
   "nbconvert_exporter": "python",
   "pygments_lexer": "ipython3",
   "version": "3.9.12"
  }
 },
 "nbformat": 4,
 "nbformat_minor": 5
}
